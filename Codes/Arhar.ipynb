{
 "cells": [
  {
   "cell_type": "code",
   "execution_count": 1,
   "metadata": {},
   "outputs": [],
   "source": [
    "import pandas as pd\n",
    "import matplotlib.pyplot as plt\n",
    "import numpy as np"
   ]
  },
  {
   "cell_type": "code",
   "execution_count": 2,
   "metadata": {},
   "outputs": [],
   "source": [
    "df = pd.read_excel(\"/home/omkar/internship/crop_datasets/Cleaned_crop_data/MH2009-10_cleaned.xlsx\")\n",
    "df2 = pd.read_excel(\"/home/omkar/internship/crop_datasets/Cleaned_crop_data/MH2010-11_cleaned.xlsx\")\n",
    "df4 = pd.read_excel(\"/home/omkar/internship/crop_datasets/Cleaned_crop_data/MH2011-12_cleaned.xlsx\")\n",
    "df6 = pd.read_excel(\"/home/omkar/internship/crop_datasets/Cleaned_crop_data/MH2012-13_cleaned.xlsx\")\n",
    "df8 = pd.read_excel(\"/home/omkar/internship/crop_datasets/Cleaned_crop_data/MH2013-14_cleaned.xlsx\")\n",
    "df10 = pd.read_excel(\"/home/omkar/internship/crop_datasets/Cleaned_crop_data/MH2014-15_cleaned.xlsx\")\n",
    "df12 = pd.read_excel(\"/home/omkar/internship/crop_datasets/Cleaned_crop_data/MH2015-16_cleaned.xlsx\")"
   ]
  },
  {
   "cell_type": "code",
   "execution_count": 3,
   "metadata": {},
   "outputs": [],
   "source": [
    "df01 = df.loc[61:78,:]"
   ]
  },
  {
   "cell_type": "code",
   "execution_count": 4,
   "metadata": {},
   "outputs": [
    {
     "name": "stdout",
     "output_type": "stream",
     "text": [
      "   State/Crop/District      Year       Season Area (Hectare)  \\\n",
      "61        1.AHMEDNAGAR   2009-10  Kharif                 100   \n",
      "62             2.AKOLA   2009-10  Kharif                 200   \n",
      "63          3.AMRAVATI   2009-10  Kharif                 300   \n",
      "64        4.AURANGABAD   2009-10  Kharif                 200   \n",
      "65              5.BEED   2009-10  Kharif                 400   \n",
      "66          6.BULDHANA   2009-10  Kharif                 100   \n",
      "67             7.DHULE   2009-10  Kharif                 300   \n",
      "68           8.HINGOLI   2009-10  Kharif                 200   \n",
      "69           9.JALGAON   2009-10  Kharif                 200   \n",
      "70            10.JALNA   2009-10  Kharif                 100   \n",
      "71            11.LATUR   2009-10  Kharif                1200   \n",
      "72           12.NAGPUR   2009-10  Kharif                 200   \n",
      "73           13.NANDED   2009-10  Kharif                 800   \n",
      "74        14.NANDURBAR   2009-10  Kharif                 400   \n",
      "75           15.NASHIK   2009-10  Kharif                1000   \n",
      "76         16.PARBHANI   2009-10  Kharif                 800   \n",
      "77             17.PUNE   2009-10  Kharif                 100   \n",
      "78           18.WARDHA   2009-10  Kharif                 100   \n",
      "\n",
      "   Production (Tonnes) Yield (Tonnes/Hectare]  \n",
      "61                 NaN                      0  \n",
      "62                 100                    0.5  \n",
      "63                 100               0.333333  \n",
      "64                 100                    0.5  \n",
      "65                 100                   0.25  \n",
      "66                 NaN                      0  \n",
      "67                 100               0.333333  \n",
      "68                 NaN                      0  \n",
      "69                 NaN                      0  \n",
      "70                 NaN                      0  \n",
      "71                 200               0.166667  \n",
      "72                 100                    0.5  \n",
      "73                 100                  0.125  \n",
      "74                 100                   0.25  \n",
      "75                 300                    0.3  \n",
      "76                 200                   0.25  \n",
      "77                 NaN                      0  \n",
      "78                 NaN                      0  \n"
     ]
    }
   ],
   "source": [
    "print(df01)"
   ]
  },
  {
   "cell_type": "code",
   "execution_count": 5,
   "metadata": {},
   "outputs": [],
   "source": [
    "df1 = df.loc[61:78,:]\n",
    "df3 = df2.loc[61:79,:]\n",
    "df5 = df4.loc[61:73,:]\n",
    "df7 = df6.loc[60:80,:]\n",
    "df9 = df8.loc[59:81,:]\n",
    "df11 = df10.loc[61:81,:]\n",
    "df13 = df12.loc[62:82,:]"
   ]
  },
  {
   "cell_type": "code",
   "execution_count": 6,
   "metadata": {},
   "outputs": [],
   "source": [
    "df1 = df1.append(df3)\n",
    "df1 = df1.append(df5)\n",
    "df1 = df1.append(df7)\n",
    "df1 = df1.append(df9)\n",
    "df1 = df1.append(df11)\n",
    "df1 = df1.append(df13)"
   ]
  },
  {
   "cell_type": "code",
   "execution_count": 7,
   "metadata": {},
   "outputs": [],
   "source": [
    "out_excel = 'Castor2009-16.xlsx'\n",
    "df1.to_excel(out_excel)"
   ]
  },
  {
   "cell_type": "code",
   "execution_count": null,
   "metadata": {},
   "outputs": [],
   "source": []
  }
 ],
 "metadata": {
  "kernelspec": {
   "display_name": "Python 3",
   "language": "python",
   "name": "python3"
  },
  "language_info": {
   "codemirror_mode": {
    "name": "ipython",
    "version": 3
   },
   "file_extension": ".py",
   "mimetype": "text/x-python",
   "name": "python",
   "nbconvert_exporter": "python",
   "pygments_lexer": "ipython3",
   "version": "3.6.8"
  }
 },
 "nbformat": 4,
 "nbformat_minor": 2
}
